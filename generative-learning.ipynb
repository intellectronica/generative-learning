{
 "cells": [
  {
   "cell_type": "code",
   "execution_count": 2,
   "metadata": {
    "id": "RgODZfKiBJdM"
   },
   "outputs": [],
   "source": [
    "%pip install --upgrade python-dotenv nest_asyncio pydantic google-genai requests pandas\n",
    "\n",
    "from IPython.display import clear_output ; clear_output()"
   ]
  },
  {
   "cell_type": "code",
   "execution_count": 8,
   "metadata": {},
   "outputs": [],
   "source": [
    "import os\n",
    "import random\n",
    "import asyncio\n",
    "\n",
    "from dotenv import load_dotenv\n",
    "import nest_asyncio\n",
    "\n",
    "from textwrap import dedent\n",
    "from IPython.display import display, Markdown\n",
    "\n",
    "from pydantic import BaseModel, Field\n",
    "from enum import Enum\n",
    "\n",
    "import pandas as pd\n",
    "\n",
    "from google import genai\n",
    "from google.genai import types\n",
    "\n",
    "load_dotenv()\n",
    "\n",
    "nest_asyncio.apply()\n",
    "\n",
    "_gemini_client_aio = genai.Client(api_key=os.getenv('GEMINI_API_KEY')).aio\n",
    "\n",
    "G25PRO = 'gemini-2.5-pro-preview-03-25'\n",
    "G25FLASH = 'gemini-2.5-flash-preview-04-17'\n",
    "\n",
    "async def gemini(\n",
    "        prompt,\n",
    "        pro = False, max_tokens = None, temperature = None,\n",
    "        budget = None, schema = None):\n",
    "    config = {}\n",
    "    if max_tokens is not None:\n",
    "        config['max_output_tokens'] = max_tokens\n",
    "    if temperature is not None:\n",
    "        config['temperature'] = temperature\n",
    "    if budget is not None:\n",
    "        config['thinking_config'] = {'thinking_budget': budget}\n",
    "    if schema is not None:\n",
    "        config['response_mime_type'] = 'application/json'\n",
    "        config['response_schema'] = schema\n",
    "    \n",
    "    response = await _gemini_client_aio.models.generate_content(\n",
    "        model=(G25PRO if pro else G25FLASH),\n",
    "        contents=prompt,\n",
    "        config=config,\n",
    "    )\n",
    "    \n",
    "    if schema is not None:\n",
    "        return response.parsed\n",
    "    else:\n",
    "        return response.text\n",
    "\n",
    "def md(str): display(Markdown(str))\n",
    "\n",
    "def display_df(df):\n",
    "    display(df.style.set_properties(\n",
    "        **{'text-align': 'left', 'vertical-align': 'top', 'white-space': 'pre-wrap', 'width': '50%'},\n",
    "    ))"
   ]
  },
  {
   "cell_type": "code",
   "execution_count": 9,
   "metadata": {},
   "outputs": [
    {
     "data": {
      "text/html": [
       "<style type=\"text/css\">\n",
       "#T_bc03f_row0_col0, #T_bc03f_row0_col1, #T_bc03f_row1_col0, #T_bc03f_row1_col1, #T_bc03f_row2_col0, #T_bc03f_row2_col1 {\n",
       "  text-align: left;\n",
       "  vertical-align: top;\n",
       "  white-space: pre-wrap;\n",
       "  width: 50%;\n",
       "}\n",
       "</style>\n",
       "<table id=\"T_bc03f\">\n",
       "  <thead>\n",
       "    <tr>\n",
       "      <th class=\"blank level0\" >&nbsp;</th>\n",
       "      <th id=\"T_bc03f_level0_col0\" class=\"col_heading level0 col0\" >input</th>\n",
       "      <th id=\"T_bc03f_level0_col1\" class=\"col_heading level0 col1\" >output</th>\n",
       "    </tr>\n",
       "  </thead>\n",
       "  <tbody>\n",
       "    <tr>\n",
       "      <th id=\"T_bc03f_level0_row0\" class=\"row_heading level0 row0\" >0</th>\n",
       "      <td id=\"T_bc03f_row0_col0\" class=\"data row0 col0\" >The afternoon sun filtered lazily through the stained-glass windows of The Crown Inn, casting colourful patterns onto the worn carpet. It was a quiet, unhurried time of day. The pub held a palpable sense of calm. At a small, round table near the back, Arthur, a male aged 68, slowly turned a coaster between his fingers, contemplating his half-empty pint. Beside him sat Eleanor, a female aged 65, her spectacles perched on her nose as she read a book, occasionally taking a quiet sip of her water. Their presence was peaceful. Closer to the polished oak bar, Liam, a male aged 32, was engaged in a low-voiced conversation with Chloe, a female aged 30. He leaned forward slightly, listening intently, while she gestured softly with one hand. The air hummed gently with the distant clinking of a glass and the low murmur of background music, creating a perfectly calm atmosphere on this afternoon.</td>\n",
       "      <td id=\"T_bc03f_row0_col1\" class=\"data row0 col1\" >PEOPLE:\n",
       "  - Arthur, 68, male\n",
       "  - Chloe, 30, female\n",
       "  - Eleanor, 65, female\n",
       "  - Liam, 32, male\n",
       "LOCATION: pub\n",
       "TIME_OF_DAY: afternoon\n",
       "MOOD: calm\n",
       "</td>\n",
       "    </tr>\n",
       "    <tr>\n",
       "      <th id=\"T_bc03f_level0_row1\" class=\"row_heading level0 row1\" >1</th>\n",
       "      <td id=\"T_bc03f_row1_col0\" class=\"data row1 col0\" >The late afternoon sun cast long, distorted shadows through the living room windows. Clara, age 8, female, clutched a worn teddy bear, her small body trembling. Beside her, Leo, age 10, male, stood frozen, his face pale despite his attempt at a brave stance. Their mother, Sarah, age 35, female, was on the phone in the kitchen moments before, but a sudden, sharp crack from the front of the house had silenced her. Now, she moved slowly into the hallway, her eyes wide with a primal fear that mirrored her children's.\n",
       "\n",
       "The house, usually a place of comfort and noise, was unnaturally quiet. The only sound was the frantic thumping of their own hearts. Then, a figure emerged from the deeper shadows near the front door. It was Elias, a man in his 50s, male, whom they had never seen before. He didn't move quickly, didn't make a sound, just stood there, a silent, imposing shape in the dim light. His presence felt wrong, like a cold draft in a warm room. Clara whimpered softly, burying her face in the teddy bear. Leo edged closer to Sarah, his earlier bravery completely gone. The air grew heavy, thick with unspoken dread. The afternoon had turned terrifying.</td>\n",
       "      <td id=\"T_bc03f_row1_col1\" class=\"data row1 col1\" >PEOPLE:\n",
       "  - Clara, 8, female\n",
       "  - Elias, 55, male\n",
       "  - Leo, 10, male\n",
       "  - Sarah, 35, female\n",
       "LOCATION: home\n",
       "TIME_OF_DAY: afternoon\n",
       "MOOD: scary\n",
       "</td>\n",
       "    </tr>\n",
       "    <tr>\n",
       "      <th id=\"T_bc03f_level0_row2\" class=\"row_heading level0 row2\" >2</th>\n",
       "      <td id=\"T_bc03f_row2_col0\" class=\"data row2 col0\" >The only light in the office came from the humming fluorescent tubes above. Sarah, a 32 year old female, huddled closer to her screen, the blue glow reflecting on her tense face. Across the aisle, David, a 45 year old male, slowly turned his head towards the dark hallway, his glasses glinting. Neither spoke. The air was thick with a silence that felt wrong, broken only by the faint, rhythmic dripping sound coming from somewhere beyond the closed conference room door. Alex, a 25 year old person of other gender, sitting at the next desk, jumped violently when a floorboard creaked overhead on the empty floor above. They clutched their chest, eyes wide. It was well past midnight, the city lights distant pinpricks through the large window, confirming the late hour. A sudden cold draft swept through the room despite the still air. The dripping stopped. A slow, dragging sound replaced it, closer now. David swallowed hard. Sarah stifled a whimper. Alex slowly reached for the heavy stapler on their desk. The sound grew louder, closer. Something was moving in the dark hallway. The mood was undeniably one of creeping terror.</td>\n",
       "      <td id=\"T_bc03f_row2_col1\" class=\"data row2 col1\" >PEOPLE:\n",
       "  - Alex, 25, other\n",
       "  - David, 45, male\n",
       "  - Sarah, 32, female\n",
       "LOCATION: office\n",
       "TIME_OF_DAY: night\n",
       "MOOD: scary\n",
       "</td>\n",
       "    </tr>\n",
       "  </tbody>\n",
       "</table>\n"
      ],
      "text/plain": [
       "<pandas.io.formats.style.Styler at 0x71a5dd9fd040>"
      ]
     },
     "metadata": {},
     "output_type": "display_data"
    },
    {
     "name": "stdout",
     "output_type": "stream",
     "text": [
      "100 items in dataset.\n"
     ]
    }
   ],
   "source": [
    "dataset = pd.read_csv('dataset.csv')\n",
    "\n",
    "display_df(dataset.head(3))\n",
    "\n",
    "print(f'{len(dataset)} items in dataset.')"
   ]
  },
  {
   "cell_type": "code",
   "execution_count": 10,
   "metadata": {},
   "outputs": [
    {
     "name": "stdout",
     "output_type": "stream",
     "text": [
      "training: (25, 2)\n"
     ]
    },
    {
     "data": {
      "text/html": [
       "<style type=\"text/css\">\n",
       "#T_f2574_row0_col0, #T_f2574_row0_col1 {\n",
       "  text-align: left;\n",
       "  vertical-align: top;\n",
       "  white-space: pre-wrap;\n",
       "  width: 50%;\n",
       "}\n",
       "</style>\n",
       "<table id=\"T_f2574\">\n",
       "  <thead>\n",
       "    <tr>\n",
       "      <th class=\"blank level0\" >&nbsp;</th>\n",
       "      <th id=\"T_f2574_level0_col0\" class=\"col_heading level0 col0\" >input</th>\n",
       "      <th id=\"T_f2574_level0_col1\" class=\"col_heading level0 col1\" >output</th>\n",
       "    </tr>\n",
       "  </thead>\n",
       "  <tbody>\n",
       "    <tr>\n",
       "      <th id=\"T_f2574_level0_row0\" class=\"row_heading level0 row0\" >24</th>\n",
       "      <td id=\"T_f2574_row0_col0\" class=\"data row0 col0\" >Liam, a 28-year-old male, clapped Ben, a 29-year-old male, on the back. \"Can you believe it?\" Liam grinned widely. Aisha, a 27-year-old female, linked arms with Ben, her face alight with laughter. They were walking down Elm Street, the only light coming from the warm glow of the infrequent lampposts overhead and the distant shimmer of city lights. The sky above was a deep, inky black, dotted with faint stars. The usual daytime bustle of traffic and pedestrians was gone, replaced by a quiet hum.\n",
       "\n",
       "Aisha squeezed Ben's arm. \"Seriously, I thought we'd messed it up for sure.\" Her voice was light and airy. Ben chuckled, the sound carrying slightly in the still air. \"Pure luck, maybe, but we did it! That presentation was intense.\" He looked from Aisha to Liam, both friends beaming back at him. They had just left the office building a few blocks away, having successfully landed a major project they'd worked on for months. The relief and excitement bubbled up, turning their walk into a celebratory stroll. They weren't rushing; they were savouring the moment, their steps light, their conversation easy, punctuated by bursts of genuine, joyful laughter that echoed softly between the buildings. The cool night air felt fresh and invigorating.</td>\n",
       "      <td id=\"T_f2574_row0_col1\" class=\"data row0 col1\" >PEOPLE:\n",
       "  - Aisha, 27, female\n",
       "  - Ben, 29, male\n",
       "  - Liam, 28, male\n",
       "LOCATION: street\n",
       "TIME_OF_DAY: night\n",
       "MOOD: happy\n",
       "</td>\n",
       "    </tr>\n",
       "  </tbody>\n",
       "</table>\n"
      ],
      "text/plain": [
       "<pandas.io.formats.style.Styler at 0x71a60b27ffb0>"
      ]
     },
     "metadata": {},
     "output_type": "display_data"
    },
    {
     "name": "stdout",
     "output_type": "stream",
     "text": [
      "validation: (25, 2)\n"
     ]
    },
    {
     "data": {
      "text/html": [
       "<style type=\"text/css\">\n",
       "#T_7e774_row0_col0, #T_7e774_row0_col1 {\n",
       "  text-align: left;\n",
       "  vertical-align: top;\n",
       "  white-space: pre-wrap;\n",
       "  width: 50%;\n",
       "}\n",
       "</style>\n",
       "<table id=\"T_7e774\">\n",
       "  <thead>\n",
       "    <tr>\n",
       "      <th class=\"blank level0\" >&nbsp;</th>\n",
       "      <th id=\"T_7e774_level0_col0\" class=\"col_heading level0 col0\" >input</th>\n",
       "      <th id=\"T_7e774_level0_col1\" class=\"col_heading level0 col1\" >output</th>\n",
       "    </tr>\n",
       "  </thead>\n",
       "  <tbody>\n",
       "    <tr>\n",
       "      <th id=\"T_7e774_level0_row0\" class=\"row_heading level0 row0\" >24</th>\n",
       "      <td id=\"T_7e774_row0_col0\" class=\"data row0 col0\" >Sarah, an eight year old female, sat on the worn rug in the living room. Her father, David, a forty year old male, was reading a newspaper in his favorite armchair. Her mother, Emily, a thirty eight year old female, hummed softly from the kitchen nearby. Afternoon sun slanted through the windows, casting warm, long rectangles across the familiar wooden floor of their house. This was their home, a place usually filled with comfort and safety. But today, a strange silence hung in the air, broken only by Emily's soft tune.\n",
       "\n",
       "Suddenly, a noise came from upstairs. It was a slow, deliberate creak, like heavy footsteps where no one should be. David lowered his paper, his eyes fixed on the ceiling. Emily's humming stopped abruptly. Another creak, louder this time, followed by a soft dragging sound that seemed to move across the floorboards directly overhead. Sarah whimpered, pressing herself closer to the rug. The light outside was still bright afternoon, but the air inside the house felt cold and heavy. The dragging stopped. Then came a single, sharp rap against the ceiling, directly above them. A shared look of fear passed between David and Emily. The house felt like it was holding its breath.</td>\n",
       "      <td id=\"T_7e774_row0_col1\" class=\"data row0 col1\" >PEOPLE:\n",
       "  - David, 40, male\n",
       "  - Emily, 38, female\n",
       "  - Sarah, 8, female\n",
       "LOCATION: home\n",
       "TIME_OF_DAY: afternoon\n",
       "MOOD: scary\n",
       "</td>\n",
       "    </tr>\n",
       "  </tbody>\n",
       "</table>\n"
      ],
      "text/plain": [
       "<pandas.io.formats.style.Styler at 0x71a5e86ebc50>"
      ]
     },
     "metadata": {},
     "output_type": "display_data"
    },
    {
     "name": "stdout",
     "output_type": "stream",
     "text": [
      "testing: (50, 2)\n"
     ]
    },
    {
     "data": {
      "text/html": [
       "<style type=\"text/css\">\n",
       "#T_9cb6f_row0_col0, #T_9cb6f_row0_col1 {\n",
       "  text-align: left;\n",
       "  vertical-align: top;\n",
       "  white-space: pre-wrap;\n",
       "  width: 50%;\n",
       "}\n",
       "</style>\n",
       "<table id=\"T_9cb6f\">\n",
       "  <thead>\n",
       "    <tr>\n",
       "      <th class=\"blank level0\" >&nbsp;</th>\n",
       "      <th id=\"T_9cb6f_level0_col0\" class=\"col_heading level0 col0\" >input</th>\n",
       "      <th id=\"T_9cb6f_level0_col1\" class=\"col_heading level0 col1\" >output</th>\n",
       "    </tr>\n",
       "  </thead>\n",
       "  <tbody>\n",
       "    <tr>\n",
       "      <th id=\"T_9cb6f_level0_row0\" class=\"row_heading level0 row0\" >49</th>\n",
       "      <td id=\"T_9cb6f_row0_col0\" class=\"data row0 col0\" >The weak morning sun struggled to pierce the thick kitchen curtains. Dust motes danced slowly in the few rays that made it through the quiet room. A half-eaten bowl of cereal sat cold on the worn wooden table, untouched. Sarah, a woman in her mid-forties, gently stirred a mug of tea, her gaze fixed on the dark liquid as if seeking answers there. Opposite her sat Mark, a man of similar age, his shoulders slumped, tracing aimless patterns on the table surface with his finger. Thirteen-year-old Emily, a girl with tear-streaked cheeks, picked listlessly at a piece of toast beside her younger brother. Tom, a boy of seven, sat unusually still in his chair, his lower lip trembling slightly as he looked between his parents, sensing the weight in the air. The usual morning sounds of hurried footsteps and clattering dishes were absent, replaced by a heavy silence that pressed down on the small family like a physical weight. Each person seemed lost in their own private cloud of sorrow, the atmosphere thick with unspoken grief and shared sadness.</td>\n",
       "      <td id=\"T_9cb6f_row0_col1\" class=\"data row0 col1\" >PEOPLE:\n",
       "  - Emily, 13, female\n",
       "  - Mark, 45, male\n",
       "  - Sarah, 45, female\n",
       "  - Tom, 7, male\n",
       "LOCATION: home\n",
       "TIME_OF_DAY: morning\n",
       "MOOD: sad\n",
       "</td>\n",
       "    </tr>\n",
       "  </tbody>\n",
       "</table>\n"
      ],
      "text/plain": [
       "<pandas.io.formats.style.Styler at 0x71a5e86ebc50>"
      ]
     },
     "metadata": {},
     "output_type": "display_data"
    }
   ],
   "source": [
    "training_dataset = dataset.iloc[:25].reset_index(drop=True)\n",
    "validation_dataset = dataset.iloc[25:50].reset_index(drop=True)\n",
    "testing_dataset = dataset.iloc[50:100].reset_index(drop=True)\n",
    "\n",
    "print(f'training: {training_dataset.shape}')\n",
    "display_df(training_dataset.tail(1))\n",
    "\n",
    "print(f'validation: {validation_dataset.shape}')\n",
    "display_df(validation_dataset.tail(1))\n",
    "\n",
    "print(f'testing: {testing_dataset.shape}')\n",
    "display_df(testing_dataset.tail(1))"
   ]
  }
 ],
 "metadata": {
  "colab": {
   "authorship_tag": "ABX9TyOgU/ZZ6QdPgJgsWA2PABSv",
   "private_outputs": true,
   "provenance": []
  },
  "kernelspec": {
   "display_name": "Python 3",
   "name": "python3"
  },
  "language_info": {
   "codemirror_mode": {
    "name": "ipython",
    "version": 3
   },
   "file_extension": ".py",
   "mimetype": "text/x-python",
   "name": "python",
   "nbconvert_exporter": "python",
   "pygments_lexer": "ipython3",
   "version": "3.12.1"
  }
 },
 "nbformat": 4,
 "nbformat_minor": 0
}
